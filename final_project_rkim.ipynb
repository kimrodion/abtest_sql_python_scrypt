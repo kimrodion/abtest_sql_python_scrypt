{
 "cells": [
  {
   "cell_type": "code",
   "execution_count": 1,
   "metadata": {},
   "outputs": [],
   "source": [
    "import pandas as pd\n",
    "import numpy as np\n",
    "from scipy.stats import chi2_contingency\n",
    "from scipy.stats import norm\n",
    "from tqdm.auto import tqdm\n",
    "import pandahouse as ph\n",
    "%matplotlib inline\n",
    "import matplotlib.pyplot as plt\n",
    "import seaborn as sns"
   ]
  },
  {
   "cell_type": "code",
   "execution_count": 2,
   "metadata": {},
   "outputs": [],
   "source": [
    "sns.set(\n",
    "    font_scale=2,\n",
    "    style='whitegrid',\n",
    "    rc={'figure.figsize': (20, 7)}\n",
    ")"
   ]
  },
  {
   "cell_type": "markdown",
   "metadata": {},
   "source": [
    "# Задание 1. A/B–тестирование"
   ]
  },
  {
   "cell_type": "code",
   "execution_count": 3,
   "metadata": {},
   "outputs": [],
   "source": [
    "groups = pd.read_csv('/mnt/HC_Volume_18315164/home-jupyter/jupyter-r-kim-36/Проект_2_groups.csv', sep=';')\n",
    "groups_add = pd.read_csv('/mnt/HC_Volume_18315164/home-jupyter/jupyter-r-kim-36/Проект_2_group_add.csv', sep=',')\n",
    "active_studs = pd.read_csv('/mnt/HC_Volume_18315164/home-jupyter/jupyter-r-kim-36/Проект_2_active_studs.csv', sep=';')\n",
    "checks = pd.read_csv('/mnt/HC_Volume_18315164/home-jupyter/jupyter-r-kim-36/Проект_2_checks.csv', sep=';')"
   ]
  },
  {
   "cell_type": "markdown",
   "metadata": {},
   "source": [
    "Перед началом работы проверим данные на наличие пустых значений и дубликатов."
   ]
  },
  {
   "cell_type": "code",
   "execution_count": 4,
   "metadata": {},
   "outputs": [
    {
     "data": {
      "text/plain": [
       "id     0\n",
       "grp    0\n",
       "dtype: int64"
      ]
     },
     "execution_count": 4,
     "metadata": {},
     "output_type": "execute_result"
    }
   ],
   "source": [
    "groups.isna().sum()"
   ]
  },
  {
   "cell_type": "code",
   "execution_count": 5,
   "metadata": {},
   "outputs": [
    {
     "data": {
      "text/plain": [
       "id     0\n",
       "grp    0\n",
       "dtype: int64"
      ]
     },
     "execution_count": 5,
     "metadata": {},
     "output_type": "execute_result"
    }
   ],
   "source": [
    "groups_add.isna().sum()"
   ]
  },
  {
   "cell_type": "code",
   "execution_count": 6,
   "metadata": {},
   "outputs": [
    {
     "data": {
      "text/plain": [
       "student_id    0\n",
       "dtype: int64"
      ]
     },
     "execution_count": 6,
     "metadata": {},
     "output_type": "execute_result"
    }
   ],
   "source": [
    "active_studs.isna().sum()"
   ]
  },
  {
   "cell_type": "code",
   "execution_count": 7,
   "metadata": {},
   "outputs": [
    {
     "data": {
      "text/plain": [
       "student_id    0\n",
       "rev           0\n",
       "dtype: int64"
      ]
     },
     "execution_count": 7,
     "metadata": {},
     "output_type": "execute_result"
    }
   ],
   "source": [
    "checks.isna().sum()"
   ]
  },
  {
   "cell_type": "code",
   "execution_count": 8,
   "metadata": {},
   "outputs": [
    {
     "data": {
      "text/plain": [
       "0"
      ]
     },
     "execution_count": 8,
     "metadata": {},
     "output_type": "execute_result"
    }
   ],
   "source": [
    "groups.duplicated().sum()"
   ]
  },
  {
   "cell_type": "code",
   "execution_count": 9,
   "metadata": {},
   "outputs": [
    {
     "data": {
      "text/plain": [
       "0"
      ]
     },
     "execution_count": 9,
     "metadata": {},
     "output_type": "execute_result"
    }
   ],
   "source": [
    "groups_add.duplicated().sum()"
   ]
  },
  {
   "cell_type": "code",
   "execution_count": 10,
   "metadata": {},
   "outputs": [
    {
     "data": {
      "text/plain": [
       "0"
      ]
     },
     "execution_count": 10,
     "metadata": {},
     "output_type": "execute_result"
    }
   ],
   "source": [
    "active_studs.duplicated().sum()"
   ]
  },
  {
   "cell_type": "code",
   "execution_count": 11,
   "metadata": {},
   "outputs": [
    {
     "data": {
      "text/plain": [
       "0"
      ]
     },
     "execution_count": 11,
     "metadata": {},
     "output_type": "execute_result"
    }
   ],
   "source": [
    "checks.duplicated().sum()"
   ]
  },
  {
   "cell_type": "markdown",
   "metadata": {},
   "source": [
    "Пропущенных значений и дубликатов нет."
   ]
  },
  {
   "cell_type": "code",
   "execution_count": 12,
   "metadata": {},
   "outputs": [],
   "source": [
    "active_studs = active_studs.rename(columns={'student_id': 'id'})\n",
    "checks = checks.rename(columns={'student_id': 'id'})\n",
    "# Переименуем столбцы для удобства дальнейшей работы"
   ]
  },
  {
   "cell_type": "code",
   "execution_count": 13,
   "metadata": {},
   "outputs": [],
   "source": [
    "groups_all = pd.concat([groups, groups_add])\n",
    "# Объединяем все данные по группам"
   ]
  },
  {
   "cell_type": "code",
   "execution_count": 14,
   "metadata": {},
   "outputs": [],
   "source": [
    "# Создаем датафрейм для дальнейшей работы\n",
    "active_users = active_studs.merge(checks, how='left', on='id')\n",
    "active_users = active_users.merge(groups_all, how='left', on='id')"
   ]
  },
  {
   "cell_type": "code",
   "execution_count": 15,
   "metadata": {},
   "outputs": [
    {
     "name": "stdout",
     "output_type": "stream",
     "text": [
      "<class 'pandas.core.frame.DataFrame'>\n",
      "Int64Index: 8341 entries, 0 to 8340\n",
      "Data columns (total 3 columns):\n",
      " #   Column  Non-Null Count  Dtype  \n",
      "---  ------  --------------  -----  \n",
      " 0   id      8341 non-null   int64  \n",
      " 1   rev     392 non-null    float64\n",
      " 2   grp     8341 non-null   object \n",
      "dtypes: float64(1), int64(1), object(1)\n",
      "memory usage: 260.7+ KB\n"
     ]
    }
   ],
   "source": [
    "active_users.info()"
   ]
  },
  {
   "cell_type": "code",
   "execution_count": 16,
   "metadata": {},
   "outputs": [
    {
     "name": "stdout",
     "output_type": "stream",
     "text": [
      "<class 'pandas.core.frame.DataFrame'>\n",
      "RangeIndex: 541 entries, 0 to 540\n",
      "Data columns (total 2 columns):\n",
      " #   Column  Non-Null Count  Dtype  \n",
      "---  ------  --------------  -----  \n",
      " 0   id      541 non-null    int64  \n",
      " 1   rev     541 non-null    float64\n",
      "dtypes: float64(1), int64(1)\n",
      "memory usage: 8.6 KB\n"
     ]
    }
   ],
   "source": [
    "checks.info()"
   ]
  },
  {
   "cell_type": "markdown",
   "metadata": {},
   "source": [
    "В данных есть аномалия. Есть пользователи, совершившие оплату, но не являющиеся активными пользователями. Возможно, оплата просто списывается автоматически, не требуя активности на платформе."
   ]
  },
  {
   "cell_type": "code",
   "execution_count": 17,
   "metadata": {},
   "outputs": [],
   "source": [
    "active_users = active_users.fillna(0)\n",
    "# Заполним пустые ячейки нулями"
   ]
  },
  {
   "cell_type": "markdown",
   "metadata": {},
   "source": [
    "# На какие метрики Вы смотрите в ходе анализа и почему?"
   ]
  },
  {
   "cell_type": "markdown",
   "metadata": {},
   "source": [
    "В ходе анализа A/B-тестирования, где целевой группе была предложена новая механика оплаты услуг на сайте, а контрольной группе оставалась базовая механика, можно рассмотреть следующие метрики:\n",
    "\n",
    "    Конверсия - позволяет оценить, насколько успешно новая механика влияет на поведение пользователей.\n",
    "    \n",
    "    ARPU - позволяет оценить, какой средний доход приносит каждый пользователь в среднем, включая как платящих, так и неплатящих пользователей.\n",
    "    \n",
    "    ARPPU - различия в среднем чеке между группами могут указывать на эффективность новой механики оплаты.\n",
    "    \n",
    "    Значимость различий - при анализе результатов A/B-тестирования важно также оценить статистическую значимость различий между группами. Это позволяет определить, насколько вероятно, что различия между группами не являются случайными, а являются результатом влияния новой механики оплаты.\n",
    "    \n",
    "Анализ этих метрик позволит оценить эффективность новой механики оплаты и принять решение о ее запуске для всех пользователей."
   ]
  },
  {
   "cell_type": "markdown",
   "metadata": {},
   "source": [
    "# Имеются ли различия в показателях и с чем они могут быть связаны?"
   ]
  },
  {
   "cell_type": "code",
   "execution_count": 18,
   "metadata": {},
   "outputs": [],
   "source": [
    "# Подсчет метрик\n",
    "metrics = active_users.groupby('grp', as_index=False) \\\n",
    "                      .agg(all_users=('id', 'count'), \n",
    "                           paying_users=('rev', lambda x: x[x > 0].count()), \n",
    "                           revenue=('rev', 'sum'))\n",
    "\n",
    "metrics['CR'] = round(metrics['paying_users'] / metrics['all_users'] * 100, 2)\n",
    "metrics['ARPU'] = round(metrics['revenue'] / metrics['all_users'], 2)\n",
    "metrics['ARPPU'] = round(metrics['revenue'] / metrics['paying_users'], 2)"
   ]
  },
  {
   "cell_type": "code",
   "execution_count": 19,
   "metadata": {
    "scrolled": true
   },
   "outputs": [
    {
     "data": {
      "text/html": [
       "<div>\n",
       "<style scoped>\n",
       "    .dataframe tbody tr th:only-of-type {\n",
       "        vertical-align: middle;\n",
       "    }\n",
       "\n",
       "    .dataframe tbody tr th {\n",
       "        vertical-align: top;\n",
       "    }\n",
       "\n",
       "    .dataframe thead th {\n",
       "        text-align: right;\n",
       "    }\n",
       "</style>\n",
       "<table border=\"1\" class=\"dataframe\">\n",
       "  <thead>\n",
       "    <tr style=\"text-align: right;\">\n",
       "      <th></th>\n",
       "      <th>grp</th>\n",
       "      <th>all_users</th>\n",
       "      <th>paying_users</th>\n",
       "      <th>revenue</th>\n",
       "      <th>CR</th>\n",
       "      <th>ARPU</th>\n",
       "      <th>ARPPU</th>\n",
       "    </tr>\n",
       "  </thead>\n",
       "  <tbody>\n",
       "    <tr>\n",
       "      <th>0</th>\n",
       "      <td>A</td>\n",
       "      <td>1538</td>\n",
       "      <td>78.0</td>\n",
       "      <td>72820.0000</td>\n",
       "      <td>5.07</td>\n",
       "      <td>47.35</td>\n",
       "      <td>933.59</td>\n",
       "    </tr>\n",
       "    <tr>\n",
       "      <th>1</th>\n",
       "      <td>B</td>\n",
       "      <td>6803</td>\n",
       "      <td>314.0</td>\n",
       "      <td>394974.0035</td>\n",
       "      <td>4.62</td>\n",
       "      <td>58.06</td>\n",
       "      <td>1257.88</td>\n",
       "    </tr>\n",
       "  </tbody>\n",
       "</table>\n",
       "</div>"
      ],
      "text/plain": [
       "  grp  all_users  paying_users      revenue    CR   ARPU    ARPPU\n",
       "0   A       1538          78.0   72820.0000  5.07  47.35   933.59\n",
       "1   B       6803         314.0  394974.0035  4.62  58.06  1257.88"
      ]
     },
     "execution_count": 19,
     "metadata": {},
     "output_type": "execute_result"
    }
   ],
   "source": [
    "metrics"
   ]
  },
  {
   "cell_type": "markdown",
   "metadata": {},
   "source": [
    "Показатели метрик, кроме конверсии, выше у экспериментальной группы. Выборки групп значительно различаются, возможно это как-то влияет на различия в показателях. Чтобы сделать какой-то вывод, нужно проверить статистическую значимость различий."
   ]
  },
  {
   "cell_type": "markdown",
   "metadata": {},
   "source": [
    "# Являются ли эти различия статистически значимыми?"
   ]
  },
  {
   "cell_type": "markdown",
   "metadata": {},
   "source": [
    "Проверим данные на нормальность распределения."
   ]
  },
  {
   "cell_type": "code",
   "execution_count": 20,
   "metadata": {},
   "outputs": [
    {
     "data": {
      "image/png": "[encoded data removed]",
      "text/plain": [
       "<Figure size 1440x504 with 1 Axes>"
      ]
     },
     "metadata": {},
     "output_type": "display_data"
    }
   ],
   "source": [
    "log_rev = np.log(active_users.query('grp == \"A\" & rev > 0').rev)\n",
    "\n",
    "# Построение гистограммы на логарифмированных значениях\n",
    "plt.hist(log_rev, bins=10) \n",
    "plt.xlabel('log(rev)')\n",
    "plt.ylabel('Количество')\n",
    "plt.title('Гистограмма логарифмированных значений rev')\n",
    "plt.show()"
   ]
  },
  {
   "cell_type": "code",
   "execution_count": 21,
   "metadata": {},
   "outputs": [
    {
     "data": {
      "image/png": "[encoded data removed]",
      "text/plain": [
       "<Figure size 1440x504 with 1 Axes>"
      ]
     },
     "metadata": {},
     "output_type": "display_data"
    }
   ],
   "source": [
    "log_rev = np.log(active_users.query('grp == \"B\" & rev > 0').rev)\n",
    "\n",
    "# Построение гистограммы на логарифмированных значениях\n",
    "plt.hist(log_rev, bins=10) \n",
    "plt.xlabel('log(rev)')\n",
    "plt.ylabel('Количество')\n",
    "plt.title('Гистограмма логарифмированных значений rev')\n",
    "plt.show()"
   ]
  },
  {
   "cell_type": "markdown",
   "metadata": {},
   "source": [
    "Видим, что распределения в двух группах не являются нормальными. Далее посмотрим на наличие выбросов."
   ]
  },
  {
   "cell_type": "code",
   "execution_count": 22,
   "metadata": {},
   "outputs": [
    {
     "data": {
      "image/png": "[encoded data removed]",
      "text/plain": [
       "<Figure size 1440x504 with 1 Axes>"
      ]
     },
     "metadata": {},
     "output_type": "display_data"
    }
   ],
   "source": [
    "# Построим боксплоты для наглядности\n",
    "sns.boxplot(data=active_users[active_users.rev > 0], x='rev', y='grp')\n",
    "sns.despine()"
   ]
  },
  {
   "cell_type": "markdown",
   "metadata": {},
   "source": [
    "Видим наличие выбросов. Для больших выборок требование нормальности для t-теста не особо важно, но выбросы всё ещё критичны, и именно они влияют на t-тест. Поэтому в этом случае я буду использовать бутстрап."
   ]
  },
  {
   "cell_type": "markdown",
   "metadata": {},
   "source": [
    "# Проверка для ARPU"
   ]
  },
  {
   "cell_type": "markdown",
   "metadata": {},
   "source": [
    "Н0: Средний доход на одного пользователя (ARPU) не отличается между группами\n",
    "\n",
    "Н1: Средний доход на одного пользователя (ARPU) отличается между группами"
   ]
  },
  {
   "cell_type": "code",
   "execution_count": 23,
   "metadata": {},
   "outputs": [],
   "source": [
    "def get_bootstrap(data_column_1, data_column_2, boot_it=1000, statistic=np.mean, bootstrap_conf_level=0.95):\n",
    "    \"\"\"Выполняет бутстрэп-анализ для двух выборок и возвращает результаты.\n",
    "\n",
    "    Функция принимает числовые значения двух выборок, выполняет бутстрэп-подвыборки,\n",
    "    вычисляет интересующую нас статистику, определяет доверительные интервалы и p-значение,\n",
    "    а также отображает гистограмму распределения бутстрэп-подвыборок.\n",
    "\n",
    "    Args:\n",
    "        data_column_1 (array-like): Числовые значения первой выборки.\n",
    "        data_column_2 (array-like): Числовые значения второй выборки.\n",
    "        boot_it (int, optional): Количество бутстрэп-подвыборок. По умолчанию 1000.\n",
    "        statistic (function, optional): Интересующая нас статистика. По умолчанию np.mean.\n",
    "        bootstrap_conf_level (float, optional): Уровень значимости для доверительных интервалов. По умолчанию 0.95.\n",
    "\n",
    "    Returns:\n",
    "        dict: Результаты бутстрэп-анализа в виде словаря с ключами \"boot_data\", \"quants\" и \"p_value\".\n",
    "\n",
    "    \"\"\"\n",
    "    boot_data = []\n",
    "    for i in tqdm(range(boot_it)):  # извлекаем подвыборки\n",
    "        samples_1 = np.random.choice(data_column_1, len(data_column_1), replace=True)\n",
    "        samples_2 = np.random.choice(data_column_2, len(data_column_1), replace=True)\n",
    "        boot_data.append(statistic(samples_1) - statistic(samples_2))  # mean() - применяем статистику\n",
    "\n",
    "    pd_boot_data = pd.DataFrame(boot_data)\n",
    "\n",
    "    left_quant = (1 - bootstrap_conf_level) / 2\n",
    "    right_quant = 1 - (1 - bootstrap_conf_level) / 2\n",
    "    quants = pd_boot_data.quantile([left_quant, right_quant])\n",
    "\n",
    "    p_1 = norm.cdf(x=0, loc=np.mean(boot_data), scale=np.std(boot_data))\n",
    "    p_2 = norm.cdf(x=0, loc=-np.mean(boot_data), scale=np.std(boot_data))\n",
    "    p_value = min(p_1, p_2) * 2\n",
    "\n",
    "    # Визуализация\n",
    "    _, _, bars = plt.hist(pd_boot_data[0], bins=50)\n",
    "    for bar in bars:\n",
    "        if bar.get_x() <= quants.iloc[0][0] or bar.get_x() >= quants.iloc[1][0]:\n",
    "            bar.set_facecolor('red')\n",
    "        else:\n",
    "            bar.set_facecolor('grey')\n",
    "            bar.set_edgecolor('black')\n",
    "\n",
    "    plt.style.use('ggplot')\n",
    "    plt.vlines(quants, ymin=0, ymax=50, linestyle='--')\n",
    "    plt.xlabel('boot_data')\n",
    "    plt.ylabel('frequency')\n",
    "    plt.title(\"Histogram of boot_data\")\n",
    "    plt.show()\n",
    "\n",
    "    return {\"boot_data\": boot_data, \"quants\": quants, \"p_value\": p_value}"
   ]
  },
  {
   "cell_type": "code",
   "execution_count": 24,
   "metadata": {},
   "outputs": [
    {
     "data": {
      "application/vnd.jupyter.widget-view+json": {
       "model_id": "b367c37987954c5fb1834f4235301921",
       "version_major": 2,
       "version_minor": 0
      },
      "text/plain": [
       "HBox(children=(FloatProgress(value=0.0, max=1000.0), HTML(value='')))"
      ]
     },
     "metadata": {},
     "output_type": "display_data"
    },
    {
     "name": "stdout",
     "output_type": "stream",
     "text": [
      "\n"
     ]
    },
    {
     "data": {
      "image/png": "[encoded data removed]",
      "text/plain": [
       "<Figure size 1440x504 with 1 Axes>"
      ]
     },
     "metadata": {},
     "output_type": "display_data"
    }
   ],
   "source": [
    "booted_data_arpu = get_bootstrap(active_users.query('grp == \"A\"').rev, \n",
    "                                 active_users.query('grp == \"B\"').rev)"
   ]
  },
  {
   "cell_type": "code",
   "execution_count": 25,
   "metadata": {},
   "outputs": [
    {
     "data": {
      "text/plain": [
       "0.3076665050898526"
      ]
     },
     "execution_count": 25,
     "metadata": {},
     "output_type": "execute_result"
    }
   ],
   "source": [
    "booted_data_arpu[\"p_value\"]  # альфа"
   ]
  },
  {
   "cell_type": "code",
   "execution_count": 26,
   "metadata": {},
   "outputs": [
    {
     "data": {
      "text/html": [
       "<div>\n",
       "<style scoped>\n",
       "    .dataframe tbody tr th:only-of-type {\n",
       "        vertical-align: middle;\n",
       "    }\n",
       "\n",
       "    .dataframe tbody tr th {\n",
       "        vertical-align: top;\n",
       "    }\n",
       "\n",
       "    .dataframe thead th {\n",
       "        text-align: right;\n",
       "    }\n",
       "</style>\n",
       "<table border=\"1\" class=\"dataframe\">\n",
       "  <thead>\n",
       "    <tr style=\"text-align: right;\">\n",
       "      <th></th>\n",
       "      <th>0</th>\n",
       "    </tr>\n",
       "  </thead>\n",
       "  <tbody>\n",
       "    <tr>\n",
       "      <th>0.025</th>\n",
       "      <td>-31.448944</td>\n",
       "    </tr>\n",
       "    <tr>\n",
       "      <th>0.975</th>\n",
       "      <td>10.074366</td>\n",
       "    </tr>\n",
       "  </tbody>\n",
       "</table>\n",
       "</div>"
      ],
      "text/plain": [
       "               0\n",
       "0.025 -31.448944\n",
       "0.975  10.074366"
      ]
     },
     "execution_count": 26,
     "metadata": {},
     "output_type": "execute_result"
    }
   ],
   "source": [
    "booted_data_arpu[\"quants\"]  # ДИ"
   ]
  },
  {
   "cell_type": "markdown",
   "metadata": {},
   "source": [
    "Значение p-value значительно больше 0.05, не можем отвергнуть нулевую гипотезу."
   ]
  },
  {
   "cell_type": "markdown",
   "metadata": {},
   "source": [
    "# Проверка для ARPPU"
   ]
  },
  {
   "cell_type": "markdown",
   "metadata": {},
   "source": [
    "Н0: Средний доход на платящего пользователя (ARPPU) не отличается между группами\n",
    "\n",
    "Н1: Средний доход на платящего пользователя (ARPPU) отличается между группами"
   ]
  },
  {
   "cell_type": "code",
   "execution_count": 27,
   "metadata": {},
   "outputs": [
    {
     "data": {
      "application/vnd.jupyter.widget-view+json": {
       "model_id": "cf558277eb694b26bba8af47372b9316",
       "version_major": 2,
       "version_minor": 0
      },
      "text/plain": [
       "HBox(children=(FloatProgress(value=0.0, max=1000.0), HTML(value='')))"
      ]
     },
     "metadata": {},
     "output_type": "display_data"
    },
    {
     "name": "stdout",
     "output_type": "stream",
     "text": [
      "\n"
     ]
    },
    {
     "data": {
      "image/png": "[encoded data removed]",
      "text/plain": [
       "<Figure size 1440x504 with 1 Axes>"
      ]
     },
     "metadata": {},
     "output_type": "display_data"
    }
   ],
   "source": [
    "booted_data_arppu = get_bootstrap(active_users.query('grp == \"A\" & rev > 0').rev, \n",
    "                                  active_users.query('grp == \"B\" & rev > 0').rev)"
   ]
  },
  {
   "cell_type": "code",
   "execution_count": 28,
   "metadata": {},
   "outputs": [
    {
     "data": {
      "text/plain": [
       "0.014190756349446084"
      ]
     },
     "execution_count": 28,
     "metadata": {},
     "output_type": "execute_result"
    }
   ],
   "source": [
    "booted_data_arppu[\"p_value\"]  # альфа"
   ]
  },
  {
   "cell_type": "code",
   "execution_count": 29,
   "metadata": {},
   "outputs": [
    {
     "data": {
      "text/html": [
       "<div>\n",
       "<style scoped>\n",
       "    .dataframe tbody tr th:only-of-type {\n",
       "        vertical-align: middle;\n",
       "    }\n",
       "\n",
       "    .dataframe tbody tr th {\n",
       "        vertical-align: top;\n",
       "    }\n",
       "\n",
       "    .dataframe thead th {\n",
       "        text-align: right;\n",
       "    }\n",
       "</style>\n",
       "<table border=\"1\" class=\"dataframe\">\n",
       "  <thead>\n",
       "    <tr style=\"text-align: right;\">\n",
       "      <th></th>\n",
       "      <th>0</th>\n",
       "    </tr>\n",
       "  </thead>\n",
       "  <tbody>\n",
       "    <tr>\n",
       "      <th>0.025</th>\n",
       "      <td>-573.085590</td>\n",
       "    </tr>\n",
       "    <tr>\n",
       "      <th>0.975</th>\n",
       "      <td>-47.766353</td>\n",
       "    </tr>\n",
       "  </tbody>\n",
       "</table>\n",
       "</div>"
      ],
      "text/plain": [
       "                0\n",
       "0.025 -573.085590\n",
       "0.975  -47.766353"
      ]
     },
     "execution_count": 29,
     "metadata": {},
     "output_type": "execute_result"
    }
   ],
   "source": [
    "booted_data_arppu[\"quants\"]  # ДИ"
   ]
  },
  {
   "cell_type": "markdown",
   "metadata": {},
   "source": [
    "Значение p-value меньше 0.05 и доверительный интервал не включает 0, можем отвергнуть нулевую гипотезу."
   ]
  },
  {
   "cell_type": "markdown",
   "metadata": {},
   "source": [
    "# Проверка для CR"
   ]
  },
  {
   "cell_type": "markdown",
   "metadata": {},
   "source": [
    "Н0: Конверсия в платящего пользователя (CR) не отличается между группами\n",
    "\n",
    "Н1: Конверсия в платящего пользователя (CR) отличается между группами"
   ]
  },
  {
   "cell_type": "code",
   "execution_count": 30,
   "metadata": {},
   "outputs": [],
   "source": [
    "active_users['paying'] = active_users.rev > 0"
   ]
  },
  {
   "cell_type": "code",
   "execution_count": 31,
   "metadata": {},
   "outputs": [
    {
     "data": {
      "text/html": [
       "<div>\n",
       "<style scoped>\n",
       "    .dataframe tbody tr th:only-of-type {\n",
       "        vertical-align: middle;\n",
       "    }\n",
       "\n",
       "    .dataframe tbody tr th {\n",
       "        vertical-align: top;\n",
       "    }\n",
       "\n",
       "    .dataframe thead th {\n",
       "        text-align: right;\n",
       "    }\n",
       "</style>\n",
       "<table border=\"1\" class=\"dataframe\">\n",
       "  <thead>\n",
       "    <tr style=\"text-align: right;\">\n",
       "      <th>grp</th>\n",
       "      <th>A</th>\n",
       "      <th>B</th>\n",
       "    </tr>\n",
       "    <tr>\n",
       "      <th>paying</th>\n",
       "      <th></th>\n",
       "      <th></th>\n",
       "    </tr>\n",
       "  </thead>\n",
       "  <tbody>\n",
       "    <tr>\n",
       "      <th>False</th>\n",
       "      <td>1460</td>\n",
       "      <td>6489</td>\n",
       "    </tr>\n",
       "    <tr>\n",
       "      <th>True</th>\n",
       "      <td>78</td>\n",
       "      <td>314</td>\n",
       "    </tr>\n",
       "  </tbody>\n",
       "</table>\n",
       "</div>"
      ],
      "text/plain": [
       "grp        A     B\n",
       "paying            \n",
       "False   1460  6489\n",
       "True      78   314"
      ]
     },
     "execution_count": 31,
     "metadata": {},
     "output_type": "execute_result"
    }
   ],
   "source": [
    "pd.crosstab(active_users.paying, active_users.grp)"
   ]
  },
  {
   "cell_type": "code",
   "execution_count": 32,
   "metadata": {},
   "outputs": [],
   "source": [
    "stat, p, dof, expected = chi2_contingency(pd.crosstab(active_users.paying, active_users.grp))"
   ]
  },
  {
   "cell_type": "code",
   "execution_count": 33,
   "metadata": {},
   "outputs": [
    {
     "data": {
      "text/plain": [
       "(0.48480826522557896, 0.48625240457231045)"
      ]
     },
     "execution_count": 33,
     "metadata": {},
     "output_type": "execute_result"
    }
   ],
   "source": [
    "stat, p"
   ]
  },
  {
   "cell_type": "markdown",
   "metadata": {},
   "source": [
    "Значение p-value значительно больше 0.05, не можем отвергнуть нулевую гипотезу."
   ]
  },
  {
   "cell_type": "markdown",
   "metadata": {},
   "source": [
    "# Стоит ли запускать новую механику на всех пользователей?"
   ]
  },
  {
   "cell_type": "markdown",
   "metadata": {},
   "source": [
    "По проведенным тестам, значимо увеличился только ARPPU, остальные метрики не показали статистически значимых изменений.\n",
    "\n",
    "Новую механику оплаты можно запустить на всех пользователей, но возможно перед этим необходимо будет проверить тест на честность и принять во внимание имеющиеся аномалии."
   ]
  },
  {
   "cell_type": "markdown",
   "metadata": {},
   "source": [
    "# Задание 2. SQL"
   ]
  },
  {
   "cell_type": "markdown",
   "metadata": {},
   "source": [
    "# 2.1 Очень усердные ученики."
   ]
  },
  {
   "cell_type": "markdown",
   "metadata": {},
   "source": [
    "Образовательные курсы состоят из различных уроков, каждый из которых состоит из нескольких маленьких заданий. Каждое такое маленькое задание называется \"горошиной\".\n",
    "\n",
    "Назовём очень усердным учеником того пользователя, который хотя бы раз за текущий месяц правильно решил 20 горошин.\n",
    "\n",
    "Необходимо написать оптимальный запрос, который даст информацию о количестве очень усердных студентов."
   ]
  },
  {
   "cell_type": "code",
   "execution_count": 34,
   "metadata": {},
   "outputs": [],
   "source": [
    "connection_default = {\n",
    "    'host': 'https://clickhouse.lab.karpov.courses',\n",
    "    'database': 'default',\n",
    "    'user': 'student', \n",
    "    'password': 'dpo_python_2020'\n",
    "}"
   ]
  },
  {
   "cell_type": "code",
   "execution_count": 35,
   "metadata": {},
   "outputs": [],
   "source": [
    "good_students = '''\n",
    "    SELECT st_id, toStartOfMonth(timest) AS month, COUNT(correct) AS tasks\n",
    "    FROM default.peas\n",
    "    WHERE correct = 1\n",
    "    GROUP BY st_id, month\n",
    "    HAVING COUNT(correct) >= 20\n",
    "'''"
   ]
  },
  {
   "cell_type": "code",
   "execution_count": 36,
   "metadata": {},
   "outputs": [
    {
     "data": {
      "text/html": [
       "<div>\n",
       "<style scoped>\n",
       "    .dataframe tbody tr th:only-of-type {\n",
       "        vertical-align: middle;\n",
       "    }\n",
       "\n",
       "    .dataframe tbody tr th {\n",
       "        vertical-align: top;\n",
       "    }\n",
       "\n",
       "    .dataframe thead th {\n",
       "        text-align: right;\n",
       "    }\n",
       "</style>\n",
       "<table border=\"1\" class=\"dataframe\">\n",
       "  <thead>\n",
       "    <tr style=\"text-align: right;\">\n",
       "      <th></th>\n",
       "      <th>st_id</th>\n",
       "      <th>month</th>\n",
       "      <th>tasks</th>\n",
       "    </tr>\n",
       "  </thead>\n",
       "  <tbody>\n",
       "    <tr>\n",
       "      <th>0</th>\n",
       "      <td>510283</td>\n",
       "      <td>2021-10-01</td>\n",
       "      <td>23</td>\n",
       "    </tr>\n",
       "    <tr>\n",
       "      <th>1</th>\n",
       "      <td>370846</td>\n",
       "      <td>2021-10-01</td>\n",
       "      <td>34</td>\n",
       "    </tr>\n",
       "    <tr>\n",
       "      <th>2</th>\n",
       "      <td>43985</td>\n",
       "      <td>2021-10-01</td>\n",
       "      <td>28</td>\n",
       "    </tr>\n",
       "    <tr>\n",
       "      <th>3</th>\n",
       "      <td>335446</td>\n",
       "      <td>2021-10-01</td>\n",
       "      <td>45</td>\n",
       "    </tr>\n",
       "    <tr>\n",
       "      <th>4</th>\n",
       "      <td>899745</td>\n",
       "      <td>2021-10-01</td>\n",
       "      <td>45</td>\n",
       "    </tr>\n",
       "    <tr>\n",
       "      <th>...</th>\n",
       "      <td>...</td>\n",
       "      <td>...</td>\n",
       "      <td>...</td>\n",
       "    </tr>\n",
       "    <tr>\n",
       "      <th>131</th>\n",
       "      <td>61717</td>\n",
       "      <td>2021-10-01</td>\n",
       "      <td>21</td>\n",
       "    </tr>\n",
       "    <tr>\n",
       "      <th>132</th>\n",
       "      <td>98637</td>\n",
       "      <td>2021-10-01</td>\n",
       "      <td>40</td>\n",
       "    </tr>\n",
       "    <tr>\n",
       "      <th>133</th>\n",
       "      <td>471168</td>\n",
       "      <td>2021-10-01</td>\n",
       "      <td>28</td>\n",
       "    </tr>\n",
       "    <tr>\n",
       "      <th>134</th>\n",
       "      <td>969749</td>\n",
       "      <td>2021-10-01</td>\n",
       "      <td>31</td>\n",
       "    </tr>\n",
       "    <tr>\n",
       "      <th>135</th>\n",
       "      <td>658395</td>\n",
       "      <td>2021-10-01</td>\n",
       "      <td>41</td>\n",
       "    </tr>\n",
       "  </tbody>\n",
       "</table>\n",
       "<p>136 rows × 3 columns</p>\n",
       "</div>"
      ],
      "text/plain": [
       "      st_id      month  tasks\n",
       "0    510283 2021-10-01     23\n",
       "1    370846 2021-10-01     34\n",
       "2     43985 2021-10-01     28\n",
       "3    335446 2021-10-01     45\n",
       "4    899745 2021-10-01     45\n",
       "..      ...        ...    ...\n",
       "131   61717 2021-10-01     21\n",
       "132   98637 2021-10-01     40\n",
       "133  471168 2021-10-01     28\n",
       "134  969749 2021-10-01     31\n",
       "135  658395 2021-10-01     41\n",
       "\n",
       "[136 rows x 3 columns]"
      ]
     },
     "execution_count": 36,
     "metadata": {},
     "output_type": "execute_result"
    }
   ],
   "source": [
    "ph.read_clickhouse(good_students, connection=connection_default)"
   ]
  },
  {
   "cell_type": "markdown",
   "metadata": {},
   "source": [
    "Получаем 136 усердных учеников."
   ]
  },
  {
   "cell_type": "markdown",
   "metadata": {},
   "source": [
    "# 2.2 Оптимизация воронки"
   ]
  },
  {
   "cell_type": "markdown",
   "metadata": {},
   "source": [
    "Образовательная платформа предлагает пройти студентам курсы по модели trial: студент может решить бесплатно лишь 30 горошин в день. Для неограниченного количества заданий в определенной дисциплине студенту необходимо приобрести полный доступ. Команда провела эксперимент, где был протестирован новый экран оплаты.\n",
    "\n",
    "Необходимо в одном запросе выгрузить следующую информацию о группах пользователей:\n",
    "\n",
    "    ARPU \n",
    "    ARPAU \n",
    "    CR в покупку \n",
    "    СR активного пользователя в покупку \n",
    "    CR пользователя из активности по математике (subject = 'math') в покупку курса по математике\n",
    "\n",
    "ARPU считается относительно всех пользователей, попавших в группы.\n",
    "\n",
    "Активным считается пользователь, за все время решивший больше 10 задач правильно в любых дисциплинах.\n",
    "\n",
    "Активным по математике считается пользователь, за все время решивший 2 или больше задач правильно по математике."
   ]
  },
  {
   "cell_type": "code",
   "execution_count": 37,
   "metadata": {},
   "outputs": [],
   "source": [
    "metrics = '''\n",
    "WITH active_studs AS (\n",
    "    SELECT \n",
    "        st_id, \n",
    "        COUNT(correct) AS tasks,\n",
    "        sumIf(correct, subject = 'Math') AS math_tasks\n",
    "    FROM default.peas\n",
    "    WHERE correct = 1\n",
    "    GROUP BY st_id\n",
    ")\n",
    "\n",
    "SELECT \n",
    "    test_grp, \n",
    "    ROUND(SUM(money) / COUNT(DISTINCT studs.st_id), 2) AS ARPU,\n",
    "    ROUND(SUM(CASE WHEN tasks > 10 THEN money ELSE 0 END) / \n",
    "        COUNT(DISTINCT CASE WHEN tasks > 10 THEN studs.st_id END), 2) AS ARPAU,\n",
    "    ROUND(100 * uniq(CASE WHEN final_project_check.money > 0 THEN studs.st_id END) / uniq(studs.st_id), 2) AS CR,\n",
    "    ROUND(100 * uniq(CASE WHEN final_project_check.money > 0 AND active_studs.tasks > 10 THEN studs.st_id END) / \n",
    "        uniq(CASE WHEN active_studs.tasks > 10 THEN studs.st_id END), 2) AS CR_active,\n",
    "    ROUND(100 * uniq(CASE WHEN final_project_check.money > 0 AND subject = 'Math' AND active_studs.math_tasks >= 2 \n",
    "        THEN studs.st_id END) / uniq(CASE WHEN active_studs.math_tasks >= 2 THEN studs.st_id END), 2) AS CR_active_math\n",
    "FROM default.studs\n",
    "    LEFT JOIN default.final_project_check ON studs.st_id = final_project_check.st_id\n",
    "    LEFT JOIN active_studs ON studs.st_id = active_studs.st_id\n",
    "GROUP BY test_grp;\n",
    "'''"
   ]
  },
  {
   "cell_type": "code",
   "execution_count": 38,
   "metadata": {},
   "outputs": [
    {
     "data": {
      "text/html": [
       "<div>\n",
       "<style scoped>\n",
       "    .dataframe tbody tr th:only-of-type {\n",
       "        vertical-align: middle;\n",
       "    }\n",
       "\n",
       "    .dataframe tbody tr th {\n",
       "        vertical-align: top;\n",
       "    }\n",
       "\n",
       "    .dataframe thead th {\n",
       "        text-align: right;\n",
       "    }\n",
       "</style>\n",
       "<table border=\"1\" class=\"dataframe\">\n",
       "  <thead>\n",
       "    <tr style=\"text-align: right;\">\n",
       "      <th></th>\n",
       "      <th>test_grp</th>\n",
       "      <th>ARPU</th>\n",
       "      <th>ARPAU</th>\n",
       "      <th>CR</th>\n",
       "      <th>CR_active</th>\n",
       "      <th>CR_active_math</th>\n",
       "    </tr>\n",
       "  </thead>\n",
       "  <tbody>\n",
       "    <tr>\n",
       "      <th>0</th>\n",
       "      <td>control</td>\n",
       "      <td>4540.98</td>\n",
       "      <td>10393.70</td>\n",
       "      <td>4.92</td>\n",
       "      <td>11.02</td>\n",
       "      <td>6.12</td>\n",
       "    </tr>\n",
       "    <tr>\n",
       "      <th>1</th>\n",
       "      <td>pilot</td>\n",
       "      <td>11508.47</td>\n",
       "      <td>29739.58</td>\n",
       "      <td>10.85</td>\n",
       "      <td>26.04</td>\n",
       "      <td>9.52</td>\n",
       "    </tr>\n",
       "  </tbody>\n",
       "</table>\n",
       "</div>"
      ],
      "text/plain": [
       "  test_grp      ARPU     ARPAU     CR  CR_active  CR_active_math\n",
       "0  control   4540.98  10393.70   4.92      11.02            6.12\n",
       "1    pilot  11508.47  29739.58  10.85      26.04            9.52"
      ]
     },
     "execution_count": 38,
     "metadata": {},
     "output_type": "execute_result"
    }
   ],
   "source": [
    "ph.read_clickhouse(metrics, connection=connection_default)"
   ]
  },
  {
   "cell_type": "markdown",
   "metadata": {},
   "source": [
    "# Задание 3. Python"
   ]
  },
  {
   "cell_type": "markdown",
   "metadata": {},
   "source": [
    "# 3.1 Реализуйте функцию, которая будет автоматически подгружать информацию из дополнительного файла groups_add.csv (заголовки могут отличаться) и на основании дополнительных параметров пересчитывать метрики."
   ]
  },
  {
   "cell_type": "code",
   "execution_count": 39,
   "metadata": {},
   "outputs": [],
   "source": [
    "def recalculate_metrics(groups, groups_add, active_studs, checks):\n",
    "    \"\"\"Пересчитывает метрики.\n",
    "\n",
    "    Функция принимает данные о группах, добавочных группах, активных студентах и оплатах,\n",
    "    выполняет пересчет метрик и возвращает результат в виде датафрейма.\n",
    "\n",
    "    Args:\n",
    "        groups (DataFrame): Данные о группах.\n",
    "        groups_add (DataFrame): Данные о добавочных группах.\n",
    "        active_studs (DataFrame): Данные об активных студентах.\n",
    "        checks (DataFrame): Данные об оплатах.\n",
    "\n",
    "    Returns:\n",
    "        DataFrame: Результаты пересчета метрик.\n",
    "    \"\"\"\n",
    "    \n",
    "    # Переименуем столбцы для удобства дальнейшей работы\n",
    "    active_studs = active_studs.rename(columns={'student_id': 'id'})\n",
    "    checks = checks.rename(columns={'student_id': 'id'})\n",
    "    \n",
    "    # Объединяем все данные по группам\n",
    "    groups_all = pd.concat([groups, groups_add])\n",
    "    \n",
    "    # Создаем датафрейм для дальнейшей работы\n",
    "    active_users = active_studs.merge(checks, how='left', on='id')\n",
    "    active_users = active_users.merge(groups_all, how='left', on='id')\n",
    "    \n",
    "    # Пересчет метрик\n",
    "    metrics = active_users.groupby('grp', as_index=False) \\\n",
    "                          .agg(all_users=('id', 'count'), \n",
    "                               paying_users=('rev', lambda x: x[x > 0].count()), \n",
    "                               revenue=('rev', 'sum'))\n",
    "\n",
    "    metrics['CR'] = round(metrics['paying_users'] / metrics['all_users'] * 100, 2)\n",
    "    metrics['ARPU'] = round(metrics['revenue'] / metrics['all_users'], 2)\n",
    "    metrics['ARPPU'] = round(metrics['revenue'] / metrics['paying_users'], 2)\n",
    "    \n",
    "    return metrics"
   ]
  },
  {
   "cell_type": "code",
   "execution_count": 40,
   "metadata": {},
   "outputs": [
    {
     "data": {
      "text/html": [
       "<div>\n",
       "<style scoped>\n",
       "    .dataframe tbody tr th:only-of-type {\n",
       "        vertical-align: middle;\n",
       "    }\n",
       "\n",
       "    .dataframe tbody tr th {\n",
       "        vertical-align: top;\n",
       "    }\n",
       "\n",
       "    .dataframe thead th {\n",
       "        text-align: right;\n",
       "    }\n",
       "</style>\n",
       "<table border=\"1\" class=\"dataframe\">\n",
       "  <thead>\n",
       "    <tr style=\"text-align: right;\">\n",
       "      <th></th>\n",
       "      <th>grp</th>\n",
       "      <th>all_users</th>\n",
       "      <th>paying_users</th>\n",
       "      <th>revenue</th>\n",
       "      <th>CR</th>\n",
       "      <th>ARPU</th>\n",
       "      <th>ARPPU</th>\n",
       "    </tr>\n",
       "  </thead>\n",
       "  <tbody>\n",
       "    <tr>\n",
       "      <th>0</th>\n",
       "      <td>A</td>\n",
       "      <td>1538</td>\n",
       "      <td>78.0</td>\n",
       "      <td>72820.0000</td>\n",
       "      <td>5.07</td>\n",
       "      <td>47.35</td>\n",
       "      <td>933.59</td>\n",
       "    </tr>\n",
       "    <tr>\n",
       "      <th>1</th>\n",
       "      <td>B</td>\n",
       "      <td>6803</td>\n",
       "      <td>314.0</td>\n",
       "      <td>394974.0035</td>\n",
       "      <td>4.62</td>\n",
       "      <td>58.06</td>\n",
       "      <td>1257.88</td>\n",
       "    </tr>\n",
       "  </tbody>\n",
       "</table>\n",
       "</div>"
      ],
      "text/plain": [
       "  grp  all_users  paying_users      revenue    CR   ARPU    ARPPU\n",
       "0   A       1538          78.0   72820.0000  5.07  47.35   933.59\n",
       "1   B       6803         314.0  394974.0035  4.62  58.06  1257.88"
      ]
     },
     "execution_count": 40,
     "metadata": {},
     "output_type": "execute_result"
    }
   ],
   "source": [
    "metrics = recalculate_metrics(groups, groups_add, active_studs, checks)\n",
    "metrics"
   ]
  },
  {
   "cell_type": "markdown",
   "metadata": {},
   "source": [
    "# 3.2 Реализуйте функцию, которая будет строить графики по получаемым метрикам."
   ]
  },
  {
   "cell_type": "code",
   "execution_count": 41,
   "metadata": {},
   "outputs": [],
   "source": [
    "def plot_metrics(metrics):\n",
    "    \"\"\"Отображает графики метрик.\n",
    "\n",
    "    Функция принимает данные метрик в виде датафрейма и отображает три графика:\n",
    "    Conversion Rate (CR), Average Revenue per User (ARPU) и Average Revenue per Paying User (ARPPU).\n",
    "\n",
    "    Args:\n",
    "        metrics (DataFrame): Данные метрик.\n",
    "\n",
    "    Returns:\n",
    "        Графики метрик.\n",
    "    \"\"\"\n",
    "    \n",
    "    # Создание графика для CR\n",
    "    plt.figure(figsize=(8, 6))\n",
    "    plt.bar(metrics['grp'], metrics['CR'])\n",
    "    plt.xlabel('Group')\n",
    "    plt.ylabel('CR (%)')\n",
    "    plt.title('Conversion Rate (CR) by Group')\n",
    "    plt.show()\n",
    "\n",
    "    # Создание графика для ARPU\n",
    "    plt.figure(figsize=(8, 6))\n",
    "    plt.bar(metrics['grp'], metrics['ARPU'])\n",
    "    plt.xlabel('Group')\n",
    "    plt.ylabel('ARPU')\n",
    "    plt.title('Average Revenue per User (ARPU) by Group')\n",
    "    plt.show()\n",
    "\n",
    "    # Создание графика для ARPPU\n",
    "    plt.figure(figsize=(8, 6))\n",
    "    plt.bar(metrics['grp'], metrics['ARPPU'])\n",
    "    plt.xlabel('Group')\n",
    "    plt.ylabel('ARPPU')\n",
    "    plt.title('Average Revenue per Paying User (ARPPU) by Group')\n",
    "    plt.show()"
   ]
  },
  {
   "cell_type": "code",
   "execution_count": 42,
   "metadata": {},
   "outputs": [
    {
     "data": {
      "image/png": "[encoded data removed]",
      "text/plain": [
       "<Figure size 576x432 with 1 Axes>"
      ]
     },
     "metadata": {},
     "output_type": "display_data"
    },
    {
     "data": {
      "image/png": "[encoded data removed]",
      "text/plain": [
       "<Figure size 576x432 with 1 Axes>"
      ]
     },
     "metadata": {},
     "output_type": "display_data"
    },
    {
     "data": {
      "image/png": "[encoded data removed]",
      "text/plain": [
       "<Figure size 576x432 with 1 Axes>"
      ]
     },
     "metadata": {},
     "output_type": "display_data"
    }
   ],
   "source": [
    "plot_metrics(metrics)"
   ]
  }
 ],
 "metadata": {
  "kernelspec": {
   "display_name": "Python 3 (ipykernel)",
   "language": "python",
   "name": "python3"
  },
  "language_info": {
   "codemirror_mode": {
    "name": "ipython",
    "version": 3
   },
   "file_extension": ".py",
   "mimetype": "text/x-python",
   "name": "python",
   "nbconvert_exporter": "python",
   "pygments_lexer": "ipython3",
   "version": "3.11.3"
  }
 },
 "nbformat": 4,
 "nbformat_minor": 4
}
